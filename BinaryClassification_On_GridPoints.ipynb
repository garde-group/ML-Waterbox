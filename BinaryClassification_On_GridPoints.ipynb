{
 "cells": [
  {
   "cell_type": "markdown",
   "metadata": {},
   "source": [
    "# Model to predict cavities at grid-points in a water box\n",
    "## Approach:\n",
    "We run a 50 nanosecond MD simulation of tip3p water in a 5nm by 5nm by 5nm box, with a time step of 2fs, with frames being saved after every 500 timesteps. This gives us 50000 frames in all.\n",
    "\n",
    "We intend to supply the position coordinates of the water-oxygen atoms in each frame as inputs and for each frame a sequence of grid-points labeled as \"cavity ~ 1\" and \"no-cavity ~ 0\" as the output.\n",
    "For each frame then, the network is then expected to do a binary classification for each of the output neurons (which is a sequence of the grid points) based on the input coordinates of all the water(oxygen) molecules in that frame."
   ]
  },
  {
   "cell_type": "code",
   "execution_count": 1,
   "metadata": {},
   "outputs": [
    {
     "name": "stderr",
     "output_type": "stream",
     "text": [
      "Using TensorFlow backend.\n"
     ]
    }
   ],
   "source": [
    "import numpy as np\n",
    "import tensorflow as tf\n",
    "import keras\n",
    "import os\n",
    "import MDAnalysis as mda"
   ]
  },
  {
   "cell_type": "markdown",
   "metadata": {},
   "source": [
    "## Data Processing\n",
    "\n",
    "This involved two broad steps:\n",
    "1. Input data preparation\n",
    "2. Label Generation\n",
    "\n",
    "### Inputs:\n",
    "We dump all the individual saved frames as separate ```.gro``` files. \n",
    "We used shell scripts to process the ```.gro``` files into ```.dat``` files. The rows containing the water-hydrogen coordinates were removed (under the assumption that location of a water molecule is given by the location of the water molecules); and changed the extension to ```.dat```.\n",
    "_Note: Make sure there are six distinct columns throughout the data file, otherwise import using ```np.loadtxt``` for last three columns will fail. Here, for atoms near the end of the file, the atom index becomes large and the space delimiter between the 3rd and 4th column disappears._"
   ]
  },
  {
   "cell_type": "code",
   "execution_count": 2,
   "metadata": {},
   "outputs": [
    {
     "name": "stdout",
     "output_type": "stream",
     "text": [
      "11988\n",
      "Done.\n"
     ]
    }
   ],
   "source": [
    "# path where .dat files are located\n",
    "org_path = 'path/to/location/of/dat/files/and/trajectory'\n",
    "dat_files = []\n",
    "# load .dat files into array dat_files\n",
    "for filename in os.listdir(org_path):\n",
    "    if filename.endswith(\".dat\"):\n",
    "        fulldat = os.path.join(org_path, filename)\n",
    "        dat_files.append(fulldat)\n",
    "# check how many files were loaded        \n",
    "print(len(dat_files))\n",
    "\n",
    "inputlist = []\n",
    "# load columns of coordinates into inputlist\n",
    "for item in dat_files:\n",
    "    inputlist.append((np.loadtxt(item, usecols = (3,4,5,))))\n",
    "print(\"Done.\")"
   ]
  },
  {
   "cell_type": "code",
   "execution_count": 3,
   "metadata": {
    "scrolled": true
   },
   "outputs": [
    {
     "name": "stdout",
     "output_type": "stream",
     "text": [
      "11988\n",
      "3\n",
      "[[0.629 3.899 3.261]\n",
      " [2.18  3.632 2.952]\n",
      " [3.526 4.416 0.836]\n",
      " ...\n",
      " [3.447 4.65  0.503]\n",
      " [4.283 4.289 0.246]\n",
      " [4.318 3.076 1.07 ]]\n"
     ]
    }
   ],
   "source": [
    "# checks to see if the load worked correctly\n",
    "print(len(inputlist))\n",
    "print(np.ndim(inputlist))\n",
    "print(inputlist[0])"
   ]
  },
  {
   "cell_type": "markdown",
   "metadata": {},
   "source": [
    "### Labels:\n",
    "\n",
    "Python Package ```MDAnalysis``` was used to manipulate trajectory data and obtain the presence of cavities at specific grid points.\n"
   ]
  },
  {
   "cell_type": "code",
   "execution_count": 4,
   "metadata": {},
   "outputs": [],
   "source": [
    "# create mda universe object with the topology and trajectory\n",
    "u = mda.Universe('run.tpr','run.xtc')"
   ]
  },
  {
   "cell_type": "code",
   "execution_count": 20,
   "metadata": {},
   "outputs": [
    {
     "name": "stdout",
     "output_type": "stream",
     "text": [
      "Done.\n"
     ]
    }
   ],
   "source": [
    "# create labels for grid points\n",
    "# label contains cavity labels over all the frames\n",
    "label =[]\n",
    "# loop over frames in trajectory\n",
    "for ts in u.trajectory:\n",
    "    # array of cavity labels for each frame\n",
    "    cavity =[]\n",
    "    # grid size = 5 specified in the i,j,k loops\n",
    "    for i in range(5) :\n",
    "        for j in range(5) :\n",
    "            for k in range(5) :\n",
    "                # manipulation to prepare selection\n",
    "                si = str(i) + ' '\n",
    "                sj = str(j) + ' '\n",
    "                sk = str(k) + ' '\n",
    "                gridpoint = si + sj + sk\n",
    "                selection = 'point ' + gridpoint + '2.0'\n",
    "                # check if any items in selection and assign label accordingly\n",
    "                if (len(u.select_atoms(selection))== 0):\n",
    "                    cavity.append(1)\n",
    "                else:\n",
    "                    cavity.append(0)\n",
    "    # for each frame append cavity array into label array\n",
    "    \n",
    "    label.append(cavity)\n",
    "print(\"Done.\")"
   ]
  },
  {
   "cell_type": "code",
   "execution_count": 21,
   "metadata": {},
   "outputs": [
    {
     "data": {
      "text/plain": [
       "(11988, 125)"
      ]
     },
     "execution_count": 21,
     "metadata": {},
     "output_type": "execute_result"
    }
   ],
   "source": [
    "# check to see labels worked correctly\n",
    "np.shape(label)"
   ]
  },
  {
   "cell_type": "markdown",
   "metadata": {},
   "source": [
    "Input is now loaded into ```inputlist``` and labels into ```label```. _Note: Vectorization and reshaping are still needed at this point befor putting into the model._"
   ]
  },
  {
   "cell_type": "code",
   "execution_count": 22,
   "metadata": {},
   "outputs": [],
   "source": [
    "data = np.asarray(inputlist).astype('float32')"
   ]
  },
  {
   "cell_type": "code",
   "execution_count": 23,
   "metadata": {},
   "outputs": [],
   "source": [
    "labels = np.asarray(label).astype('float32')"
   ]
  },
  {
   "cell_type": "code",
   "execution_count": 24,
   "metadata": {},
   "outputs": [
    {
     "data": {
      "text/plain": [
       "(11988, 4055, 3)"
      ]
     },
     "execution_count": 24,
     "metadata": {},
     "output_type": "execute_result"
    }
   ],
   "source": [
    "data.shape"
   ]
  },
  {
   "cell_type": "code",
   "execution_count": 25,
   "metadata": {},
   "outputs": [
    {
     "data": {
      "text/plain": [
       "(10000, 12165)"
      ]
     },
     "execution_count": 25,
     "metadata": {},
     "output_type": "execute_result"
    }
   ],
   "source": [
    "train_data = np.reshape(data[:10000],(-1,4055*3))\n",
    "train_data = train_data / 5\n",
    "train_data.shape"
   ]
  },
  {
   "cell_type": "code",
   "execution_count": 26,
   "metadata": {},
   "outputs": [
    {
     "data": {
      "text/plain": [
       "(10000, 125)"
      ]
     },
     "execution_count": 26,
     "metadata": {},
     "output_type": "execute_result"
    }
   ],
   "source": [
    "train_labels = labels[:10000]\n",
    "train_labels.shape"
   ]
  },
  {
   "cell_type": "code",
   "execution_count": 27,
   "metadata": {},
   "outputs": [
    {
     "data": {
      "text/plain": [
       "(1988, 12165)"
      ]
     },
     "execution_count": 27,
     "metadata": {},
     "output_type": "execute_result"
    }
   ],
   "source": [
    "test_data = np.reshape(data[10000:],(-1,4055*3))\n",
    "test_data = test_data / 5\n",
    "test_data.shape"
   ]
  },
  {
   "cell_type": "code",
   "execution_count": 28,
   "metadata": {},
   "outputs": [
    {
     "data": {
      "text/plain": [
       "(1988, 125)"
      ]
     },
     "execution_count": 28,
     "metadata": {},
     "output_type": "execute_result"
    }
   ],
   "source": [
    "test_labels = labels[10000:]\n",
    "test_labels.shape"
   ]
  },
  {
   "cell_type": "code",
   "execution_count": 41,
   "metadata": {},
   "outputs": [],
   "source": [
    "from keras import models\n",
    "from keras import layers"
   ]
  },
  {
   "cell_type": "code",
   "execution_count": 54,
   "metadata": {
    "scrolled": true
   },
   "outputs": [],
   "source": [
    "network = models.Sequential()\n",
    "network.add(layers.Dense(256,activation='relu',input_shape=(12165,)))\n",
    "network.add(layers.Dense(256,activation='relu'))\n",
    "network.add(layers.Dense(256,activation='relu'))\n",
    "network.add(layers.Dense(125,activation='sigmoid'))"
   ]
  },
  {
   "cell_type": "code",
   "execution_count": 55,
   "metadata": {},
   "outputs": [],
   "source": [
    "network.compile(optimizer='rmsprop',loss='binary_crossentropy', metrics=['accuracy'])"
   ]
  },
  {
   "cell_type": "code",
   "execution_count": 56,
   "metadata": {},
   "outputs": [
    {
     "name": "stdout",
     "output_type": "stream",
     "text": [
      "Epoch 1/10\n",
      "10000/10000 [==============================] - 1s 64us/step - loss: 0.2507 - acc: 0.9402\n",
      "Epoch 2/10\n",
      "10000/10000 [==============================] - 0s 31us/step - loss: 0.1959 - acc: 0.9547\n",
      "Epoch 3/10\n",
      "10000/10000 [==============================] - 0s 31us/step - loss: 0.1915 - acc: 0.9547\n",
      "Epoch 4/10\n",
      "10000/10000 [==============================] - 0s 31us/step - loss: 0.1900 - acc: 0.9547\n",
      "Epoch 5/10\n",
      "10000/10000 [==============================] - 0s 31us/step - loss: 0.1885 - acc: 0.9547\n",
      "Epoch 6/10\n",
      "10000/10000 [==============================] - 0s 31us/step - loss: 0.1876 - acc: 0.9547\n",
      "Epoch 7/10\n",
      "10000/10000 [==============================] - 0s 31us/step - loss: 0.1874 - acc: 0.9547\n",
      "Epoch 8/10\n",
      "10000/10000 [==============================] - 0s 31us/step - loss: 0.1871 - acc: 0.9547\n",
      "Epoch 9/10\n",
      "10000/10000 [==============================] - 0s 31us/step - loss: 0.1869 - acc: 0.9547\n",
      "Epoch 10/10\n",
      "10000/10000 [==============================] - 0s 32us/step - loss: 0.1867 - acc: 0.9547\n"
     ]
    },
    {
     "data": {
      "text/plain": [
       "<keras.callbacks.History at 0x7f962c08d2b0>"
      ]
     },
     "execution_count": 56,
     "metadata": {},
     "output_type": "execute_result"
    }
   ],
   "source": [
    "# history = network.fit(train_data, train_labels, epochs= ,batch_size=, validation_data=())\n",
    "network.fit(train_data, train_labels, epochs=10 , shuffle=True, batch_size=128)"
   ]
  },
  {
   "cell_type": "code",
   "execution_count": 57,
   "metadata": {},
   "outputs": [
    {
     "name": "stdout",
     "output_type": "stream",
     "text": [
      "1988/1988 [==============================] - 0s 90us/step\n",
      "test_acc: 0.9548450716784302\n"
     ]
    }
   ],
   "source": [
    "test_loss, test_acc = network.evaluate(test_data, test_labels)\n",
    "print('test_acc:', test_acc)"
   ]
  },
  {
   "cell_type": "code",
   "execution_count": null,
   "metadata": {},
   "outputs": [],
   "source": []
  }
 ],
 "metadata": {
  "kernelspec": {
   "display_name": "Python 3",
   "language": "python",
   "name": "python3"
  },
  "language_info": {
   "codemirror_mode": {
    "name": "ipython",
    "version": 3
   },
   "file_extension": ".py",
   "mimetype": "text/x-python",
   "name": "python",
   "nbconvert_exporter": "python",
   "pygments_lexer": "ipython3",
   "version": "3.6.8"
  }
 },
 "nbformat": 4,
 "nbformat_minor": 2
}
