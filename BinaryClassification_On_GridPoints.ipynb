{
 "cells": [
  {
   "cell_type": "markdown",
   "metadata": {},
   "source": [
    "# Model to predict cavities at grid-points in a water box\n",
    "## Approach:\n",
    "We run a 50 nanosecond MD simulation of tip3p water in a 5nm by 5nm by 5nm box, with a time step of 2fs, with frames being saved after every 500 timesteps. This gives us 50000 frames in all.\n",
    "\n",
    "We intend to supply the position coordinates of the water-oxygen atoms in each frame as inputs and for each frame a sequence of grid-points labeled as \"cavity ~ 1\" and \"no-cavity ~ 0\" as the output.\n",
    "For each frame then, the network is then expected to do a binary classification for each of the output neurons (which is a sequence of the grid points) based on the input coordinates of all the water(oxygen) molecules in that frame."
   ]
  },
  {
   "cell_type": "code",
   "execution_count": 1,
   "metadata": {},
   "outputs": [
    {
     "name": "stderr",
     "output_type": "stream",
     "text": [
      "Using TensorFlow backend.\n"
     ]
    }
   ],
   "source": [
    "import numpy as np\n",
    "import tensorflow as tf\n",
    "import keras\n",
    "import os\n",
    "import MDAnalysis as mda"
   ]
  },
  {
   "cell_type": "markdown",
   "metadata": {},
   "source": [
    "## Data Processing\n",
    "\n",
    "This involved two broad steps:\n",
    "1. Input data preparation\n",
    "2. Label Generation\n",
    "\n",
    "### Inputs:\n",
    "We dump all the individual saved frames as separate ```.gro``` files. \n",
    "We used shell scripts to process the ```.gro``` files into ```.dat``` files. The rows containing the water-hydrogen coordinates were removed (under the assumption that location of a water molecule is given by the location of the water molecules); and changed the extension to ```.dat```.\n",
    "_Note: Make sure there are six distinct columns throughout the data file, otherwise import using ```np.loadtxt``` for last three columns will fail. Here, for atoms near the end of the file, the atom index becomes large and the space delimiter between the 3rd and 4th column disappears._"
   ]
  },
  {
   "cell_type": "code",
   "execution_count": 2,
   "metadata": {},
   "outputs": [
    {
     "name": "stdout",
     "output_type": "stream",
     "text": [
      "50001\n",
      "Done.\n"
     ]
    }
   ],
   "source": [
    "# path where .dat files are located\n",
    "org_path = '/home/vatsm/Work/jarvis/ML/waterbox/data/'\n",
    "dat_files = []\n",
    "# load .dat files into array dat_files\n",
    "for filename in os.listdir(org_path):\n",
    "    if filename.endswith(\".dat\"):\n",
    "        fulldat = os.path.join(org_path, filename)\n",
    "        dat_files.append(fulldat)\n",
    "# check how many files were loaded        \n",
    "print(len(dat_files))\n",
    "\n",
    "inputlist = []\n",
    "# load columns of coordinates into inputlist\n",
    "for item in dat_files:\n",
    "    inputlist.append((np.loadtxt(item, usecols = (3,4,5,))))\n",
    "print(\"Done.\")"
   ]
  },
  {
   "cell_type": "code",
   "execution_count": 3,
   "metadata": {
    "scrolled": true
   },
   "outputs": [
    {
     "name": "stdout",
     "output_type": "stream",
     "text": [
      "50001\n",
      "3\n",
      "[[3.802 3.527 2.208]\n",
      " [2.491 3.544 0.62 ]\n",
      " [4.158 0.114 3.488]\n",
      " ...\n",
      " [1.636 3.218 2.785]\n",
      " [3.673 4.341 3.048]\n",
      " [4.199 3.542 4.079]]\n"
     ]
    }
   ],
   "source": [
    "# checks to see if the load worked correctly\n",
    "print(len(inputlist))\n",
    "print(np.ndim(inputlist))\n",
    "print(np.shape(inputlist))\n",
    "print(inputlist[0])"
   ]
  },
  {
   "cell_type": "markdown",
   "metadata": {},
   "source": [
    "### Labels:\n",
    "\n",
    "Python Package ```MDAnalysis``` was used to manipulate trajectory data and obtain the presence of cavities at specific grid points.\n"
   ]
  },
  {
   "cell_type": "code",
   "execution_count": 4,
   "metadata": {},
   "outputs": [],
   "source": [
    "# create mda universe object with the topology and trajectory\n",
    "u = mda.Universe('run.tpr','run-whole.xtc')"
   ]
  },
  {
   "cell_type": "code",
   "execution_count": 5,
   "metadata": {},
   "outputs": [
    {
     "name": "stdout",
     "output_type": "stream",
     "text": [
      "Done.\n"
     ]
    }
   ],
   "source": [
    "# create labels for grid points\n",
    "# label contains cavity labels over all the frames\n",
    "label =[]\n",
    "# loop over frames in trajectory\n",
    "for ts in u.trajectory:\n",
    "    # array of cavity labels for each frame\n",
    "    cavity =[]\n",
    "    # grid size = 5 specified in the i,j,k loops\n",
    "    for i in range(5) :\n",
    "        for j in range(5) :\n",
    "            for k in range(5) :\n",
    "                # manipulation to prepare selection\n",
    "                si = str(i) + ' '\n",
    "                sj = str(j) + ' '\n",
    "                sk = str(k) + ' '\n",
    "                gridpoint = si + sj + sk\n",
    "                selection = 'point ' + gridpoint + '2.0'\n",
    "                # check if any items in selection and assign label accordingly\n",
    "                if (len(u.select_atoms(selection))== 0):\n",
    "                    cavity.append(1)\n",
    "                else:\n",
    "                    cavity.append(0)\n",
    "    # for each frame append cavity array into label array\n",
    "    \n",
    "    label.append(cavity)\n",
    "print(\"Done.\")"
   ]
  },
  {
   "cell_type": "code",
   "execution_count": 6,
   "metadata": {},
   "outputs": [
    {
     "data": {
      "text/plain": [
       "(50001, 125)"
      ]
     },
     "execution_count": 6,
     "metadata": {},
     "output_type": "execute_result"
    }
   ],
   "source": [
    "# check to see labels worked correctly\n",
    "np.shape(label)"
   ]
  },
  {
   "cell_type": "markdown",
   "metadata": {},
   "source": [
    "Input is now loaded into ```inputlist``` and labels into ```label```. _Note: Vectorization and reshaping are still needed at this point befor putting into the model._"
   ]
  },
  {
   "cell_type": "code",
   "execution_count": 7,
   "metadata": {},
   "outputs": [],
   "source": [
    "data = np.asarray(inputlist).astype('float32')"
   ]
  },
  {
   "cell_type": "code",
   "execution_count": 8,
   "metadata": {},
   "outputs": [],
   "source": [
    "labels = np.asarray(label).astype('float32')"
   ]
  },
  {
   "cell_type": "code",
   "execution_count": 9,
   "metadata": {},
   "outputs": [
    {
     "data": {
      "text/plain": [
       "(50001, 4055, 3)"
      ]
     },
     "execution_count": 9,
     "metadata": {},
     "output_type": "execute_result"
    }
   ],
   "source": [
    "data.shape"
   ]
  },
  {
   "cell_type": "code",
   "execution_count": 10,
   "metadata": {},
   "outputs": [
    {
     "data": {
      "text/plain": [
       "(40000, 12165)"
      ]
     },
     "execution_count": 10,
     "metadata": {},
     "output_type": "execute_result"
    }
   ],
   "source": [
    "train_data = np.reshape(data[:40000],(-1,4055*3))\n",
    "train_data = train_data / 5\n",
    "train_data.shape"
   ]
  },
  {
   "cell_type": "code",
   "execution_count": 11,
   "metadata": {},
   "outputs": [
    {
     "data": {
      "text/plain": [
       "(40000, 125)"
      ]
     },
     "execution_count": 11,
     "metadata": {},
     "output_type": "execute_result"
    }
   ],
   "source": [
    "train_labels = labels[:40000]\n",
    "train_labels.shape"
   ]
  },
  {
   "cell_type": "code",
   "execution_count": 12,
   "metadata": {},
   "outputs": [
    {
     "data": {
      "text/plain": [
       "(5000, 12165)"
      ]
     },
     "execution_count": 12,
     "metadata": {},
     "output_type": "execute_result"
    }
   ],
   "source": [
    "val_data = np.reshape(data[40000:45000],(-1,4055*3))\n",
    "val_data = val_data / 5\n",
    "val_data.shape"
   ]
  },
  {
   "cell_type": "code",
   "execution_count": 13,
   "metadata": {},
   "outputs": [
    {
     "data": {
      "text/plain": [
       "(5000, 125)"
      ]
     },
     "execution_count": 13,
     "metadata": {},
     "output_type": "execute_result"
    }
   ],
   "source": [
    "val_labels = labels[40000:45000]\n",
    "val_labels.shape"
   ]
  },
  {
   "cell_type": "code",
   "execution_count": 14,
   "metadata": {},
   "outputs": [
    {
     "data": {
      "text/plain": [
       "(5001, 12165)"
      ]
     },
     "execution_count": 14,
     "metadata": {},
     "output_type": "execute_result"
    }
   ],
   "source": [
    "test_data = np.reshape(data[45000:],(-1,4055*3))\n",
    "test_data = test_data / 5\n",
    "test_data.shape"
   ]
  },
  {
   "cell_type": "code",
   "execution_count": 15,
   "metadata": {},
   "outputs": [
    {
     "data": {
      "text/plain": [
       "(5001, 125)"
      ]
     },
     "execution_count": 15,
     "metadata": {},
     "output_type": "execute_result"
    }
   ],
   "source": [
    "test_labels = labels[45000:]\n",
    "test_labels.shape"
   ]
  },
  {
   "cell_type": "code",
   "execution_count": 21,
   "metadata": {},
   "outputs": [],
   "source": [
    "from keras import models\n",
    "from keras import layers"
   ]
  },
  {
   "cell_type": "code",
   "execution_count": 22,
   "metadata": {
    "scrolled": true
   },
   "outputs": [],
   "source": [
    "network = models.Sequential()\n",
    "network.add(layers.Dense(256,activation='relu',input_shape=(12165,)))\n",
    "network.add(layers.Dense(256,activation='relu'))\n",
    "network.add(layers.Dense(256,activation='relu'))\n",
    "network.add(layers.Dense(125,activation='sigmoid'))"
   ]
  },
  {
   "cell_type": "code",
   "execution_count": 23,
   "metadata": {},
   "outputs": [],
   "source": [
    "network.compile(optimizer='rmsprop',loss='binary_crossentropy', metrics=['accuracy'])"
   ]
  },
  {
   "cell_type": "code",
   "execution_count": 24,
   "metadata": {},
   "outputs": [
    {
     "name": "stdout",
     "output_type": "stream",
     "text": [
      "Train on 40000 samples, validate on 5000 samples\n",
      "Epoch 1/100\n",
      "40000/40000 [==============================] - 2s 38us/step - loss: 0.2138 - acc: 0.9509 - val_loss: 0.1949 - val_acc: 0.9532\n",
      "Epoch 2/100\n",
      "40000/40000 [==============================] - 1s 32us/step - loss: 0.1884 - acc: 0.9546 - val_loss: 0.1966 - val_acc: 0.9532\n",
      "Epoch 3/100\n",
      "40000/40000 [==============================] - 1s 32us/step - loss: 0.1871 - acc: 0.9546 - val_loss: 0.1904 - val_acc: 0.9532\n",
      "Epoch 4/100\n",
      "40000/40000 [==============================] - 1s 32us/step - loss: 0.1865 - acc: 0.9546 - val_loss: 0.1925 - val_acc: 0.9532\n",
      "Epoch 5/100\n",
      "40000/40000 [==============================] - 1s 32us/step - loss: 0.1862 - acc: 0.9546 - val_loss: 0.1895 - val_acc: 0.9532\n",
      "Epoch 6/100\n",
      "40000/40000 [==============================] - 1s 32us/step - loss: 0.1860 - acc: 0.9546 - val_loss: 0.1940 - val_acc: 0.9532\n",
      "Epoch 7/100\n",
      "40000/40000 [==============================] - 1s 32us/step - loss: 0.1858 - acc: 0.9546 - val_loss: 0.1903 - val_acc: 0.9532\n",
      "Epoch 8/100\n",
      "40000/40000 [==============================] - 1s 32us/step - loss: 0.1857 - acc: 0.9546 - val_loss: 0.1901 - val_acc: 0.9532\n",
      "Epoch 9/100\n",
      "40000/40000 [==============================] - 1s 32us/step - loss: 0.1855 - acc: 0.9546 - val_loss: 0.1893 - val_acc: 0.9532\n",
      "Epoch 10/100\n",
      "40000/40000 [==============================] - 1s 34us/step - loss: 0.1855 - acc: 0.9546 - val_loss: 0.1895 - val_acc: 0.9532\n",
      "Epoch 11/100\n",
      "40000/40000 [==============================] - 1s 36us/step - loss: 0.1854 - acc: 0.9546 - val_loss: 0.1893 - val_acc: 0.9532\n",
      "Epoch 12/100\n",
      "40000/40000 [==============================] - 1s 33us/step - loss: 0.1853 - acc: 0.9546 - val_loss: 0.1894 - val_acc: 0.9532\n",
      "Epoch 13/100\n",
      "40000/40000 [==============================] - 1s 33us/step - loss: 0.1853 - acc: 0.9546 - val_loss: 0.1894 - val_acc: 0.9532\n",
      "Epoch 14/100\n",
      "40000/40000 [==============================] - 1s 33us/step - loss: 0.1852 - acc: 0.9546 - val_loss: 0.1932 - val_acc: 0.9532\n",
      "Epoch 15/100\n",
      "40000/40000 [==============================] - 1s 33us/step - loss: 0.1852 - acc: 0.9546 - val_loss: 0.1893 - val_acc: 0.9532\n",
      "Epoch 16/100\n",
      "40000/40000 [==============================] - 1s 33us/step - loss: 0.1851 - acc: 0.9546 - val_loss: 0.1893 - val_acc: 0.9532\n",
      "Epoch 17/100\n",
      "40000/40000 [==============================] - 1s 33us/step - loss: 0.1850 - acc: 0.9546 - val_loss: 0.1913 - val_acc: 0.9532\n",
      "Epoch 18/100\n",
      "40000/40000 [==============================] - 1s 33us/step - loss: 0.1849 - acc: 0.9546 - val_loss: 0.1897 - val_acc: 0.9532\n",
      "Epoch 19/100\n",
      "40000/40000 [==============================] - 1s 33us/step - loss: 0.1849 - acc: 0.9546 - val_loss: 0.1898 - val_acc: 0.9532\n",
      "Epoch 20/100\n",
      "40000/40000 [==============================] - 1s 33us/step - loss: 0.1849 - acc: 0.9546 - val_loss: 0.1909 - val_acc: 0.9532\n",
      "Epoch 21/100\n",
      "40000/40000 [==============================] - 1s 33us/step - loss: 0.1849 - acc: 0.9546 - val_loss: 0.1900 - val_acc: 0.9532\n",
      "Epoch 22/100\n",
      "40000/40000 [==============================] - 1s 33us/step - loss: 0.1847 - acc: 0.9546 - val_loss: 0.1906 - val_acc: 0.9532\n",
      "Epoch 23/100\n",
      "40000/40000 [==============================] - 1s 33us/step - loss: 0.1847 - acc: 0.9546 - val_loss: 0.1896 - val_acc: 0.9532\n",
      "Epoch 24/100\n",
      "40000/40000 [==============================] - 1s 33us/step - loss: 0.1846 - acc: 0.9546 - val_loss: 0.1912 - val_acc: 0.9532\n",
      "Epoch 25/100\n",
      "40000/40000 [==============================] - 1s 33us/step - loss: 0.1846 - acc: 0.9546 - val_loss: 0.1934 - val_acc: 0.9532\n",
      "Epoch 26/100\n",
      "40000/40000 [==============================] - 1s 33us/step - loss: 0.1846 - acc: 0.9546 - val_loss: 0.1901 - val_acc: 0.9532\n",
      "Epoch 27/100\n",
      "40000/40000 [==============================] - 1s 33us/step - loss: 0.1844 - acc: 0.9546 - val_loss: 0.1909 - val_acc: 0.9532\n",
      "Epoch 28/100\n",
      "40000/40000 [==============================] - 1s 33us/step - loss: 0.1844 - acc: 0.9546 - val_loss: 0.1904 - val_acc: 0.9532\n",
      "Epoch 29/100\n",
      "40000/40000 [==============================] - 1s 33us/step - loss: 0.1844 - acc: 0.9546 - val_loss: 0.1901 - val_acc: 0.9532\n",
      "Epoch 30/100\n",
      "40000/40000 [==============================] - 1s 33us/step - loss: 0.1844 - acc: 0.9546 - val_loss: 0.1933 - val_acc: 0.9532\n",
      "Epoch 31/100\n",
      "40000/40000 [==============================] - 1s 33us/step - loss: 0.1843 - acc: 0.9546 - val_loss: 0.1919 - val_acc: 0.9532\n",
      "Epoch 32/100\n",
      "40000/40000 [==============================] - 1s 33us/step - loss: 0.1843 - acc: 0.9546 - val_loss: 0.1909 - val_acc: 0.9532\n",
      "Epoch 33/100\n",
      "40000/40000 [==============================] - 1s 33us/step - loss: 0.1842 - acc: 0.9546 - val_loss: 0.1902 - val_acc: 0.9532\n",
      "Epoch 34/100\n",
      "40000/40000 [==============================] - 1s 33us/step - loss: 0.1841 - acc: 0.9546 - val_loss: 0.1920 - val_acc: 0.9532\n",
      "Epoch 35/100\n",
      "40000/40000 [==============================] - 1s 33us/step - loss: 0.1841 - acc: 0.9546 - val_loss: 0.1929 - val_acc: 0.9532\n",
      "Epoch 36/100\n",
      "40000/40000 [==============================] - 1s 33us/step - loss: 0.1841 - acc: 0.9546 - val_loss: 0.1922 - val_acc: 0.9532\n",
      "Epoch 37/100\n",
      "40000/40000 [==============================] - 1s 33us/step - loss: 0.1840 - acc: 0.9546 - val_loss: 0.1921 - val_acc: 0.9532\n",
      "Epoch 38/100\n",
      "40000/40000 [==============================] - 1s 34us/step - loss: 0.1840 - acc: 0.9546 - val_loss: 0.1928 - val_acc: 0.9532\n",
      "Epoch 39/100\n",
      "40000/40000 [==============================] - 1s 34us/step - loss: 0.1839 - acc: 0.9546 - val_loss: 0.1916 - val_acc: 0.9532\n",
      "Epoch 40/100\n",
      "40000/40000 [==============================] - 1s 35us/step - loss: 0.1838 - acc: 0.9546 - val_loss: 0.1919 - val_acc: 0.9532\n",
      "Epoch 41/100\n",
      "40000/40000 [==============================] - 1s 33us/step - loss: 0.1839 - acc: 0.9546 - val_loss: 0.1923 - val_acc: 0.9532\n",
      "Epoch 42/100\n",
      "40000/40000 [==============================] - 1s 34us/step - loss: 0.1838 - acc: 0.9546 - val_loss: 0.1911 - val_acc: 0.9532\n",
      "Epoch 43/100\n",
      "40000/40000 [==============================] - 1s 33us/step - loss: 0.1837 - acc: 0.9546 - val_loss: 0.1903 - val_acc: 0.9532\n",
      "Epoch 44/100\n",
      "40000/40000 [==============================] - 1s 33us/step - loss: 0.1838 - acc: 0.9546 - val_loss: 0.1925 - val_acc: 0.9532\n",
      "Epoch 45/100\n",
      "40000/40000 [==============================] - 1s 33us/step - loss: 0.1836 - acc: 0.9546 - val_loss: 0.1905 - val_acc: 0.9532\n",
      "Epoch 46/100\n",
      "40000/40000 [==============================] - 1s 33us/step - loss: 0.1836 - acc: 0.9546 - val_loss: 0.1911 - val_acc: 0.9532\n",
      "Epoch 47/100\n",
      "40000/40000 [==============================] - 1s 33us/step - loss: 0.1835 - acc: 0.9546 - val_loss: 0.1907 - val_acc: 0.9532\n",
      "Epoch 48/100\n",
      "40000/40000 [==============================] - 1s 33us/step - loss: 0.1835 - acc: 0.9546 - val_loss: 0.1914 - val_acc: 0.9532\n",
      "Epoch 49/100\n",
      "40000/40000 [==============================] - 1s 33us/step - loss: 0.1834 - acc: 0.9546 - val_loss: 0.1917 - val_acc: 0.9532\n",
      "Epoch 50/100\n",
      "40000/40000 [==============================] - 1s 33us/step - loss: 0.1833 - acc: 0.9546 - val_loss: 0.1978 - val_acc: 0.9532\n",
      "Epoch 51/100\n",
      "40000/40000 [==============================] - 1s 33us/step - loss: 0.1833 - acc: 0.9546 - val_loss: 0.1921 - val_acc: 0.9532\n",
      "Epoch 52/100\n",
      "40000/40000 [==============================] - 1s 33us/step - loss: 0.1832 - acc: 0.9546 - val_loss: 0.1915 - val_acc: 0.9532\n",
      "Epoch 53/100\n",
      "40000/40000 [==============================] - 1s 33us/step - loss: 0.1832 - acc: 0.9546 - val_loss: 0.1917 - val_acc: 0.9532\n",
      "Epoch 54/100\n",
      "40000/40000 [==============================] - 1s 33us/step - loss: 0.1832 - acc: 0.9546 - val_loss: 0.1925 - val_acc: 0.9532\n",
      "Epoch 55/100\n",
      "40000/40000 [==============================] - 1s 33us/step - loss: 0.1831 - acc: 0.9546 - val_loss: 0.1936 - val_acc: 0.9532\n",
      "Epoch 56/100\n",
      "40000/40000 [==============================] - 1s 33us/step - loss: 0.1831 - acc: 0.9546 - val_loss: 0.1911 - val_acc: 0.9532\n",
      "Epoch 57/100\n",
      "40000/40000 [==============================] - 1s 33us/step - loss: 0.1830 - acc: 0.9546 - val_loss: 0.1940 - val_acc: 0.9532\n",
      "Epoch 58/100\n",
      "40000/40000 [==============================] - 1s 33us/step - loss: 0.1829 - acc: 0.9546 - val_loss: 0.1909 - val_acc: 0.9532\n",
      "Epoch 59/100\n"
     ]
    },
    {
     "name": "stdout",
     "output_type": "stream",
     "text": [
      "40000/40000 [==============================] - 1s 32us/step - loss: 0.1829 - acc: 0.9546 - val_loss: 0.1917 - val_acc: 0.9532\n",
      "Epoch 60/100\n",
      "40000/40000 [==============================] - 1s 32us/step - loss: 0.1829 - acc: 0.9546 - val_loss: 0.1927 - val_acc: 0.9532\n",
      "Epoch 61/100\n",
      "40000/40000 [==============================] - 1s 32us/step - loss: 0.1828 - acc: 0.9546 - val_loss: 0.1912 - val_acc: 0.9532\n",
      "Epoch 62/100\n",
      "40000/40000 [==============================] - 1s 32us/step - loss: 0.1828 - acc: 0.9546 - val_loss: 0.1936 - val_acc: 0.9532\n",
      "Epoch 63/100\n",
      "40000/40000 [==============================] - 1s 32us/step - loss: 0.1828 - acc: 0.9546 - val_loss: 0.1919 - val_acc: 0.9532\n",
      "Epoch 64/100\n",
      "40000/40000 [==============================] - 1s 32us/step - loss: 0.1827 - acc: 0.9546 - val_loss: 0.1938 - val_acc: 0.9532\n",
      "Epoch 65/100\n",
      "40000/40000 [==============================] - 1s 32us/step - loss: 0.1827 - acc: 0.9546 - val_loss: 0.1916 - val_acc: 0.9532\n",
      "Epoch 66/100\n",
      "40000/40000 [==============================] - 1s 32us/step - loss: 0.1826 - acc: 0.9546 - val_loss: 0.1930 - val_acc: 0.9532\n",
      "Epoch 67/100\n",
      "40000/40000 [==============================] - 1s 32us/step - loss: 0.1826 - acc: 0.9546 - val_loss: 0.1947 - val_acc: 0.9532\n",
      "Epoch 68/100\n",
      "40000/40000 [==============================] - 1s 32us/step - loss: 0.1825 - acc: 0.9546 - val_loss: 0.1927 - val_acc: 0.9532\n",
      "Epoch 69/100\n",
      "40000/40000 [==============================] - 1s 32us/step - loss: 0.1824 - acc: 0.9546 - val_loss: 0.1978 - val_acc: 0.9532\n",
      "Epoch 70/100\n",
      "40000/40000 [==============================] - 1s 32us/step - loss: 0.1824 - acc: 0.9546 - val_loss: 0.1955 - val_acc: 0.9532\n",
      "Epoch 71/100\n",
      "40000/40000 [==============================] - 1s 32us/step - loss: 0.1823 - acc: 0.9546 - val_loss: 0.1924 - val_acc: 0.9532\n",
      "Epoch 72/100\n",
      "40000/40000 [==============================] - 1s 32us/step - loss: 0.1823 - acc: 0.9546 - val_loss: 0.1919 - val_acc: 0.9532\n",
      "Epoch 73/100\n",
      "40000/40000 [==============================] - 1s 33us/step - loss: 0.1823 - acc: 0.9546 - val_loss: 0.1915 - val_acc: 0.9532\n",
      "Epoch 74/100\n",
      "40000/40000 [==============================] - 1s 34us/step - loss: 0.1823 - acc: 0.9546 - val_loss: 0.1925 - val_acc: 0.9532\n",
      "Epoch 75/100\n",
      "40000/40000 [==============================] - 1s 34us/step - loss: 0.1823 - acc: 0.9546 - val_loss: 0.1932 - val_acc: 0.9532\n",
      "Epoch 76/100\n",
      "40000/40000 [==============================] - 1s 33us/step - loss: 0.1823 - acc: 0.9546 - val_loss: 0.1948 - val_acc: 0.9532\n",
      "Epoch 77/100\n",
      "40000/40000 [==============================] - 1s 33us/step - loss: 0.1822 - acc: 0.9546 - val_loss: 0.1914 - val_acc: 0.9532\n",
      "Epoch 78/100\n",
      "40000/40000 [==============================] - 1s 33us/step - loss: 0.1821 - acc: 0.9546 - val_loss: 0.1948 - val_acc: 0.9532\n",
      "Epoch 79/100\n",
      "40000/40000 [==============================] - 1s 33us/step - loss: 0.1821 - acc: 0.9546 - val_loss: 0.1933 - val_acc: 0.9532\n",
      "Epoch 80/100\n",
      "40000/40000 [==============================] - 1s 33us/step - loss: 0.1820 - acc: 0.9546 - val_loss: 0.1916 - val_acc: 0.9532\n",
      "Epoch 81/100\n",
      "40000/40000 [==============================] - 1s 33us/step - loss: 0.1820 - acc: 0.9546 - val_loss: 0.1915 - val_acc: 0.9532\n",
      "Epoch 82/100\n",
      "40000/40000 [==============================] - 1s 33us/step - loss: 0.1818 - acc: 0.9546 - val_loss: 0.1938 - val_acc: 0.9532\n",
      "Epoch 83/100\n",
      "40000/40000 [==============================] - 1s 33us/step - loss: 0.1818 - acc: 0.9546 - val_loss: 0.1933 - val_acc: 0.9532\n",
      "Epoch 84/100\n",
      "40000/40000 [==============================] - 1s 34us/step - loss: 0.1818 - acc: 0.9546 - val_loss: 0.1961 - val_acc: 0.9532\n",
      "Epoch 85/100\n",
      "40000/40000 [==============================] - 1s 34us/step - loss: 0.1817 - acc: 0.9546 - val_loss: 0.1949 - val_acc: 0.9532\n",
      "Epoch 86/100\n",
      "40000/40000 [==============================] - 1s 33us/step - loss: 0.1818 - acc: 0.9546 - val_loss: 0.2018 - val_acc: 0.9532\n",
      "Epoch 87/100\n",
      "40000/40000 [==============================] - 1s 33us/step - loss: 0.1817 - acc: 0.9546 - val_loss: 0.1937 - val_acc: 0.9532\n",
      "Epoch 88/100\n",
      "40000/40000 [==============================] - 1s 34us/step - loss: 0.1817 - acc: 0.9546 - val_loss: 0.1959 - val_acc: 0.9532\n",
      "Epoch 89/100\n",
      "40000/40000 [==============================] - 1s 33us/step - loss: 0.1816 - acc: 0.9546 - val_loss: 0.1926 - val_acc: 0.9532\n",
      "Epoch 90/100\n",
      "40000/40000 [==============================] - 1s 33us/step - loss: 0.1816 - acc: 0.9546 - val_loss: 0.1944 - val_acc: 0.9532\n",
      "Epoch 91/100\n",
      "40000/40000 [==============================] - 1s 33us/step - loss: 0.1815 - acc: 0.9546 - val_loss: 0.1962 - val_acc: 0.9532\n",
      "Epoch 92/100\n",
      "40000/40000 [==============================] - 1s 33us/step - loss: 0.1815 - acc: 0.9546 - val_loss: 0.1960 - val_acc: 0.9532\n",
      "Epoch 93/100\n",
      "40000/40000 [==============================] - 1s 33us/step - loss: 0.1815 - acc: 0.9546 - val_loss: 0.1938 - val_acc: 0.9532\n",
      "Epoch 94/100\n",
      "40000/40000 [==============================] - 1s 33us/step - loss: 0.1815 - acc: 0.9546 - val_loss: 0.1971 - val_acc: 0.9532\n",
      "Epoch 95/100\n",
      "40000/40000 [==============================] - 1s 33us/step - loss: 0.1814 - acc: 0.9546 - val_loss: 0.1931 - val_acc: 0.9532\n",
      "Epoch 96/100\n",
      "40000/40000 [==============================] - 1s 33us/step - loss: 0.1815 - acc: 0.9546 - val_loss: 0.1925 - val_acc: 0.9532\n",
      "Epoch 97/100\n",
      "40000/40000 [==============================] - 1s 33us/step - loss: 0.1815 - acc: 0.9546 - val_loss: 0.1938 - val_acc: 0.9532\n",
      "Epoch 98/100\n",
      "40000/40000 [==============================] - 1s 34us/step - loss: 0.1814 - acc: 0.9546 - val_loss: 0.1939 - val_acc: 0.9532\n",
      "Epoch 99/100\n",
      "40000/40000 [==============================] - 1s 33us/step - loss: 0.1813 - acc: 0.9546 - val_loss: 0.1927 - val_acc: 0.9532\n",
      "Epoch 100/100\n",
      "40000/40000 [==============================] - 1s 33us/step - loss: 0.1812 - acc: 0.9546 - val_loss: 0.1948 - val_acc: 0.9532\n"
     ]
    },
    {
     "data": {
      "text/plain": [
       "<keras.callbacks.History at 0x7fb17c0543c8>"
      ]
     },
     "execution_count": 24,
     "metadata": {},
     "output_type": "execute_result"
    }
   ],
   "source": [
    "# history = network.fit(train_data, train_labels, epochs= ,batch_size=, validation_data=())\n",
    "network.fit(train_data, train_labels, epochs=100 , shuffle=True, batch_size=128, validation_data=(val_data, val_labels))"
   ]
  },
  {
   "cell_type": "code",
   "execution_count": 25,
   "metadata": {},
   "outputs": [
    {
     "name": "stdout",
     "output_type": "stream",
     "text": [
      "5001/5001 [==============================] - 0s 33us/step\n",
      "test_acc: 0.9543947236010181\n"
     ]
    }
   ],
   "source": [
    "test_loss, test_acc = network.evaluate(test_data, test_labels)\n",
    "print('test_acc:', test_acc)"
   ]
  },
  {
   "cell_type": "code",
   "execution_count": null,
   "metadata": {},
   "outputs": [],
   "source": []
  }
 ],
 "metadata": {
  "kernelspec": {
   "display_name": "Python 3",
   "language": "python",
   "name": "python3"
  },
  "language_info": {
   "codemirror_mode": {
    "name": "ipython",
    "version": 3
   },
   "file_extension": ".py",
   "mimetype": "text/x-python",
   "name": "python",
   "nbconvert_exporter": "python",
   "pygments_lexer": "ipython3",
   "version": "3.6.8"
  }
 },
 "nbformat": 4,
 "nbformat_minor": 2
}
